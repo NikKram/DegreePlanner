{
 "cells": [
  {
   "cell_type": "markdown",
   "metadata": {},
   "source": [
    "# Catalog Class\n",
    "****\n",
    "## Catalog requirements :\n",
    "\n",
    "* FW = ENGL\n",
    "\n",
    "* FC = DLS\n",
    "\n",
    "* FM = DLM\n",
    "\n",
    "* FN = DLN\n",
    "\n",
    "* FA = DLV\n",
    "\n",
    "* FH = DLL\n",
    "\n",
    "* FS = DLS"
   ]
  },
  {
   "cell_type": "code",
   "execution_count": 1,
   "metadata": {},
   "outputs": [],
   "source": [
    "class Catalog:\n",
    "    \n",
    "    courses = None\n",
    "    courses_reqs = None\n",
    "    year_from = None \n",
    "    year_to = None\n",
    "    \n",
    "    def __init__(year_from, year_to):\n",
    "        types_of_courses = ['UF','FW','FC','FM','FN','FA','FH','FS','FF',\n",
    "                            'CS_req','Math_elective','Upper_CS']\n",
    "        courses_reqs = {key: list() for key in type_of_courses}"
   ]
  },
  {
   "cell_type": "code",
   "execution_count": null,
   "metadata": {},
   "outputs": [],
   "source": []
  }
 ],
 "metadata": {
  "kernelspec": {
   "display_name": "Python 3",
   "language": "python",
   "name": "python3"
  },
  "language_info": {
   "codemirror_mode": {
    "name": "ipython",
    "version": 3
   },
   "file_extension": ".py",
   "mimetype": "text/x-python",
   "name": "python",
   "nbconvert_exporter": "python",
   "pygments_lexer": "ipython3",
   "version": "3.7.4"
  }
 },
 "nbformat": 4,
 "nbformat_minor": 4
}

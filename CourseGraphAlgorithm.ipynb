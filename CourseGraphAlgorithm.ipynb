{
 "cells": [
  {
   "cell_type": "markdown",
   "metadata": {},
   "source": [
    "# Degree Planner Backend Algorithm\n",
    "\n",
    "## TODO:\n",
    "\n",
    "* In class Graph, use dict for nodes\n",
    "* In class Graph, finish isCompleted()\n",
    "* Add all components to Node class (full name, description, etc.)\n",
    "* In Graph, nodesToRemove(), return 2 lists: required, and possible to take\n",
    "* Finish God\n"
   ]
  },
  {
   "cell_type": "code",
   "execution_count": 3,
   "metadata": {},
   "outputs": [],
   "source": [
    "class Node(object):\n",
    "    name = \"\"\n",
    "    credits = None\n",
    "    prereq = []\n",
    "    required = False\n",
    "    completed = False\n",
    "    \n",
    "    def __init__(self, n, p, c, r):\n",
    "        self.name = n\n",
    "        if p != None:\n",
    "            self.prereq = p\n",
    "        self.required = r\n",
    "        \n",
    "    def __str__(self):\n",
    "        if len(self.prereq) == 0:\n",
    "            return str(self.name) + ' [] ' + str(self.required)\n",
    "        retVal = self.name\n",
    "        retVal += ' ['\n",
    "        for item in self.prereq:\n",
    "            retVal += (str(item.name) + ', ')\n",
    "        retVal = retVal[:-2]\n",
    "        retVal += '] '      \n",
    "        retVal += str(self.required)\n",
    "        return retVal\n",
    "    \n",
    "    def canComplete(self):\n",
    "        if self.completed == True:\n",
    "            return False\n",
    "        for pr in self.prereq:\n",
    "            if pr.completed == False:\n",
    "                return False\n",
    "        \n",
    "        return True"
   ]
  },
  {
   "cell_type": "code",
   "execution_count": 17,
   "metadata": {},
   "outputs": [],
   "source": [
    "class Graph(object):\n",
    "    nodes = []\n",
    "    def __init__(self, nodesList):\n",
    "        self.nodes = nodesList\n",
    "        \n",
    "    def __str__(self):\n",
    "        return self.nodes\n",
    "    \n",
    "    def nodesToRemove(self): \n",
    "        retList = []\n",
    "        for node in self.nodes:\n",
    "            #print(str(node))\n",
    "            if(node.canComplete()):\n",
    "                retList.append(node)\n",
    "        return retList\n",
    "    \n",
    "    def isCompleted(self): #Sets degree requirements\n",
    "        for node in self.nodes:\n",
    "            #print(str(node))\n",
    "            if(not node.completed):\n",
    "                return False\n",
    "        return True\n",
    "    \n",
    "    def completeCourses(listOfCourses):\n",
    "        for course in listOfCourses:\n",
    "            for catalogCourse in nodes:\n",
    "                if course.name == catalogCourse.name:\n",
    "                    catalogCourse.completed = True\n",
    "                    listOfCourses.remove(course)\n",
    "        for course in listOfCourses:\n",
    "            nodes.append(course)"
   ]
  },
  {
   "cell_type": "code",
   "execution_count": 166,
   "metadata": {},
   "outputs": [],
   "source": [
    "class God(object): #God algorithm!\n",
    "    catalogYear = None\n",
    "    coursesComplete = []\n",
    "    allCourses = []\n",
    "    terms = []\n",
    "    termCredits = []\n",
    "    graph = None\n",
    "    \n",
    "    def __init__(self, catalogY, coursesComplete):\n",
    "        self.catalogYear = catalogY\n",
    "        self.coursesComplete = coursesComplete\n",
    "        letThereBeLight()\n",
    "        \n",
    "    def getTerms(self):\n",
    "        return None\n",
    "    \n",
    "    def letThereBeLight(self):\n",
    "        # get courses from a specific year catalog\n",
    "        self.allCourses = testNodes\n",
    "        \n",
    "        self.graph = Graph(self.allCourses)\n",
    "        self.graph.completeCourses(self.coursesComplete)\n",
    "        genNumber = 0\n",
    "        while(not graph.isCompleted()):\n",
    "            gen = createGeneration(genNumber)\n",
    "            self.terms.append(gen)\n",
    "            genNumber += 1\n",
    "    \n",
    "    # Choose high priority classes, then required, then possible to take\n",
    "    def createGeneration(self, genNum):\n",
    "        credits = 0\n",
    "        while(self.termCredits >= credits):\n",
    "            classToAdd = GetClass(self.termCredits-credits)\n",
    "            \n",
    "    def GetClass(credits):\n",
    "        \n",
    "    \n",
    "        "
   ]
  },
  {
   "cell_type": "code",
   "execution_count": 12,
   "metadata": {},
   "outputs": [],
   "source": [
    "A = Node('A', None, 3, True)\n",
    "B = Node('B', [A], 3, True)\n",
    "C = Node('C', None, 3, True)\n",
    "D = Node('B', [B], 3, True)\n",
    "E = Node('B', [B], 3, True)\n",
    "F = Node('B', [B], 3, True)\n",
    "\n",
    "A.completed = True\n",
    "testNodes = [A, B, C, D, E, F]"
   ]
  },
  {
   "cell_type": "code",
   "execution_count": 13,
   "metadata": {},
   "outputs": [
    {
     "data": {
      "text/plain": [
       "'B [A] True'"
      ]
     },
     "execution_count": 13,
     "metadata": {},
     "output_type": "execute_result"
    }
   ],
   "source": [
    "str(B)"
   ]
  },
  {
   "cell_type": "code",
   "execution_count": 14,
   "metadata": {},
   "outputs": [],
   "source": [
    "catalogTest = Graph(testNodes)"
   ]
  },
  {
   "cell_type": "code",
   "execution_count": 15,
   "metadata": {},
   "outputs": [
    {
     "ename": "TypeError",
     "evalue": "'Graph' object is not iterable",
     "output_type": "error",
     "traceback": [
      "\u001b[1;31m---------------------------------------------------------------------------\u001b[0m",
      "\u001b[1;31mTypeError\u001b[0m                                 Traceback (most recent call last)",
      "\u001b[1;32m<ipython-input-15-5cc47bb0a949>\u001b[0m in \u001b[0;36m<module>\u001b[1;34m\u001b[0m\n\u001b[1;32m----> 1\u001b[1;33m \u001b[0mstr\u001b[0m\u001b[1;33m(\u001b[0m\u001b[0mel\u001b[0m \u001b[1;32mfor\u001b[0m \u001b[0mel\u001b[0m \u001b[1;32min\u001b[0m \u001b[0mcatalogTest\u001b[0m\u001b[1;33m)\u001b[0m\u001b[1;33m\u001b[0m\u001b[1;33m\u001b[0m\u001b[0m\n\u001b[0m",
      "\u001b[1;31mTypeError\u001b[0m: 'Graph' object is not iterable"
     ]
    }
   ],
   "source": [
    "str(el for el in catalogTest)"
   ]
  },
  {
   "cell_type": "code",
   "execution_count": 160,
   "metadata": {},
   "outputs": [
    {
     "data": {
      "text/plain": [
       "[<__main__.Node at 0x1f52f533240>, <__main__.Node at 0x1f52f533320>]"
      ]
     },
     "execution_count": 160,
     "metadata": {},
     "output_type": "execute_result"
    }
   ],
   "source": [
    "catalogTest.nodesToRemove()"
   ]
  },
  {
   "cell_type": "code",
   "execution_count": 161,
   "metadata": {},
   "outputs": [
    {
     "data": {
      "text/plain": [
       "'B [A] True'"
      ]
     },
     "execution_count": 161,
     "metadata": {},
     "output_type": "execute_result"
    }
   ],
   "source": [
    "str(catalogTest.nodesToRemove()[0])"
   ]
  },
  {
   "cell_type": "code",
   "execution_count": 162,
   "metadata": {},
   "outputs": [
    {
     "data": {
      "text/plain": [
       "'C [] True'"
      ]
     },
     "execution_count": 162,
     "metadata": {},
     "output_type": "execute_result"
    }
   ],
   "source": [
    "str(catalogTest.nodesToRemove()[1])"
   ]
  },
  {
   "cell_type": "code",
   "execution_count": null,
   "metadata": {},
   "outputs": [],
   "source": []
  },
  {
   "cell_type": "code",
   "execution_count": null,
   "metadata": {},
   "outputs": [],
   "source": []
  }
 ],
 "metadata": {
  "kernelspec": {
   "display_name": "Python 3",
   "language": "python",
   "name": "python3"
  },
  "language_info": {
   "codemirror_mode": {
    "name": "ipython",
    "version": 3
   },
   "file_extension": ".py",
   "mimetype": "text/x-python",
   "name": "python",
   "nbconvert_exporter": "python",
   "pygments_lexer": "ipython3",
   "version": "3.6.9"
  }
 },
 "nbformat": 4,
 "nbformat_minor": 2
}

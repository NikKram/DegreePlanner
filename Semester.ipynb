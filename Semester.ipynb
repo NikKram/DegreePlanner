{
 "cells": [
  {
   "cell_type": "markdown",
   "metadata": {},
   "source": [
    "# Semester Class"
   ]
  },
  {
   "cell_type": "code",
   "execution_count": 1,
   "metadata": {},
   "outputs": [],
   "source": [
    "class Semester:\n",
    "    \"\"\"\n",
    "    Each student will have a set of semester objects. \n",
    "    \"\"\"\n",
    "    available_classes = {} # computed through Node class\n",
    "    classes_taken = {} # computed through Node class\n",
    "    name = None # Fall, Spring, Summer\n",
    "    year = None # '2018','2017'\n",
    "    isEven = False\n",
    "    credits_taken = 0 \n",
    "    max_credits = 16\n",
    "    \n",
    "    def __init__(sem_name, sem_year, credit_req = 16):\n",
    "        name = sem_name\n",
    "        year = sem_year\n",
    "        self.max_credit = credit_req\n",
    "        isEven = True if int(year[-1])% 2 == 0 else False\n",
    "    \n",
    "    def canAdd(course):\n",
    "        \"\"\"\n",
    "        Compute if the course can be taken during the given semester using the Graph object\n",
    "        \"\"\"\n",
    "        if course.offeredF and name[0] == 'F':\n",
    "            if course.offeredEven and isEven: return True\n",
    "            elif course.offeredOdd and not isEven: return True\n",
    "            else : return False\n",
    "        elif course.offeredS and name[0] == 'S':\n",
    "            if course.offeredEven and isEven: return True\n",
    "            elif course.offeredOdd and not isEven: return True\n",
    "            else: return False\n",
    "        elif course.offeredSu and name[0] == 'Su':\n",
    "            if course.offeredEven and isEven: return True\n",
    "            elif course.offeredOdd and not isEven: return True\n",
    "            else: return False\n",
    "        else: return False\n",
    "    \n",
    "    def add_course(course):        \n",
    "        if add_course(course):\n",
    "            self.classes_taken.append(course)\n",
    "            self.taken_credits += course.credits\n",
    "            course.completed = True\n",
    "            return True\n",
    "        return False\n",
    "    \n",
    "    "
   ]
  },
  {
   "cell_type": "code",
   "execution_count": null,
   "metadata": {},
   "outputs": [],
   "source": []
  }
 ],
 "metadata": {
  "kernelspec": {
   "display_name": "Python 3",
   "language": "python",
   "name": "python3"
  },
  "language_info": {
   "codemirror_mode": {
    "name": "ipython",
    "version": 3
   },
   "file_extension": ".py",
   "mimetype": "text/x-python",
   "name": "python",
   "nbconvert_exporter": "python",
   "pygments_lexer": "ipython3",
   "version": "3.7.4"
  }
 },
 "nbformat": 4,
 "nbformat_minor": 4
}
